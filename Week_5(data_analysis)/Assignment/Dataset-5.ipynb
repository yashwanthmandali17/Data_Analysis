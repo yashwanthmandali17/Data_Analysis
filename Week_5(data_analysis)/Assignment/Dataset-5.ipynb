{
 "cells": [
  {
   "cell_type": "markdown",
   "id": "208c5240",
   "metadata": {},
   "source": [
    "## Goal:\n",
    "### Explore Penguins dataset, clean data, perform analysis, and visualize results using NumPy, Pandas, Matplotlib, and Seaborn."
   ]
  },
  {
   "cell_type": "markdown",
   "id": "fa6dfceb",
   "metadata": {},
   "source": [
    "# Dataset: Penguins"
   ]
  },
  {
   "cell_type": "markdown",
   "id": "74a223bd",
   "metadata": {},
   "source": [
    "### 1. Why This Project?\n",
    " \n",
    "##### 1.Learn data cleaning with Pandas.\n",
    " \n",
    "##### 2.Use NumPy for calculations (mean, median, etc.).\n",
    " \n",
    "##### 3.Visualize trends using Matplotlib and Seaborn.\n",
    " \n",
    "##### 4.Understand the relationship between different columns in dataset."
   ]
  },
  {
   "cell_type": "markdown",
   "id": "d4cd5cf8",
   "metadata": {},
   "source": [
    "### 2. Import Libraries"
   ]
  },
  {
   "cell_type": "code",
   "execution_count": 2,
   "id": "bc83329e",
   "metadata": {},
   "outputs": [],
   "source": [
    "import numpy as np\n",
    "import pandas as pd\n",
    "import matplotlib.pyplot as plt\n",
    "import seaborn as sns\n",
    "sns.set_theme(style=\"whitegrid\")"
   ]
  },
  {
   "cell_type": "markdown",
   "id": "ed38a155",
   "metadata": {},
   "source": [
    "### 3. Load Dataset\n"
   ]
  },
  {
   "cell_type": "code",
   "execution_count": 3,
   "id": "1002ffe3",
   "metadata": {},
   "outputs": [
    {
     "data": {
      "text/html": [
       "<div>\n",
       "<style scoped>\n",
       "    .dataframe tbody tr th:only-of-type {\n",
       "        vertical-align: middle;\n",
       "    }\n",
       "\n",
       "    .dataframe tbody tr th {\n",
       "        vertical-align: top;\n",
       "    }\n",
       "\n",
       "    .dataframe thead th {\n",
       "        text-align: right;\n",
       "    }\n",
       "</style>\n",
       "<table border=\"1\" class=\"dataframe\">\n",
       "  <thead>\n",
       "    <tr style=\"text-align: right;\">\n",
       "      <th></th>\n",
       "      <th>species</th>\n",
       "      <th>island</th>\n",
       "      <th>bill_length_mm</th>\n",
       "      <th>bill_depth_mm</th>\n",
       "      <th>flipper_length_mm</th>\n",
       "      <th>body_mass_g</th>\n",
       "      <th>sex</th>\n",
       "    </tr>\n",
       "  </thead>\n",
       "  <tbody>\n",
       "    <tr>\n",
       "      <th>0</th>\n",
       "      <td>Adelie</td>\n",
       "      <td>Torgersen</td>\n",
       "      <td>39.1</td>\n",
       "      <td>18.7</td>\n",
       "      <td>181.0</td>\n",
       "      <td>3750.0</td>\n",
       "      <td>Male</td>\n",
       "    </tr>\n",
       "    <tr>\n",
       "      <th>1</th>\n",
       "      <td>Adelie</td>\n",
       "      <td>Torgersen</td>\n",
       "      <td>39.5</td>\n",
       "      <td>17.4</td>\n",
       "      <td>186.0</td>\n",
       "      <td>3800.0</td>\n",
       "      <td>Female</td>\n",
       "    </tr>\n",
       "    <tr>\n",
       "      <th>2</th>\n",
       "      <td>Adelie</td>\n",
       "      <td>Torgersen</td>\n",
       "      <td>40.3</td>\n",
       "      <td>18.0</td>\n",
       "      <td>195.0</td>\n",
       "      <td>3250.0</td>\n",
       "      <td>Female</td>\n",
       "    </tr>\n",
       "    <tr>\n",
       "      <th>3</th>\n",
       "      <td>Adelie</td>\n",
       "      <td>Torgersen</td>\n",
       "      <td>NaN</td>\n",
       "      <td>NaN</td>\n",
       "      <td>NaN</td>\n",
       "      <td>NaN</td>\n",
       "      <td>NaN</td>\n",
       "    </tr>\n",
       "    <tr>\n",
       "      <th>4</th>\n",
       "      <td>Adelie</td>\n",
       "      <td>Torgersen</td>\n",
       "      <td>36.7</td>\n",
       "      <td>19.3</td>\n",
       "      <td>193.0</td>\n",
       "      <td>3450.0</td>\n",
       "      <td>Female</td>\n",
       "    </tr>\n",
       "  </tbody>\n",
       "</table>\n",
       "</div>"
      ],
      "text/plain": [
       "  species     island  bill_length_mm  bill_depth_mm  flipper_length_mm  \\\n",
       "0  Adelie  Torgersen            39.1           18.7              181.0   \n",
       "1  Adelie  Torgersen            39.5           17.4              186.0   \n",
       "2  Adelie  Torgersen            40.3           18.0              195.0   \n",
       "3  Adelie  Torgersen             NaN            NaN                NaN   \n",
       "4  Adelie  Torgersen            36.7           19.3              193.0   \n",
       "\n",
       "   body_mass_g     sex  \n",
       "0       3750.0    Male  \n",
       "1       3800.0  Female  \n",
       "2       3250.0  Female  \n",
       "3          NaN     NaN  \n",
       "4       3450.0  Female  "
      ]
     },
     "execution_count": 3,
     "metadata": {},
     "output_type": "execute_result"
    }
   ],
   "source": [
    "df_penguins = sns.load_dataset('penguins')\n",
    "df_penguins.head()"
   ]
  },
  {
   "cell_type": "markdown",
   "id": "7836867c",
   "metadata": {},
   "source": [
    "### 4. Explore Data\n",
    " "
   ]
  },
  {
   "cell_type": "code",
   "execution_count": 4,
   "id": "4829f577",
   "metadata": {},
   "outputs": [
    {
     "name": "stdout",
     "output_type": "stream",
     "text": [
      "Shape: (344, 7)\n",
      "<class 'pandas.core.frame.DataFrame'>\n",
      "RangeIndex: 344 entries, 0 to 343\n",
      "Data columns (total 7 columns):\n",
      " #   Column             Non-Null Count  Dtype  \n",
      "---  ------             --------------  -----  \n",
      " 0   species            344 non-null    object \n",
      " 1   island             344 non-null    object \n",
      " 2   bill_length_mm     342 non-null    float64\n",
      " 3   bill_depth_mm      342 non-null    float64\n",
      " 4   flipper_length_mm  342 non-null    float64\n",
      " 5   body_mass_g        342 non-null    float64\n",
      " 6   sex                333 non-null    object \n",
      "dtypes: float64(4), object(3)\n",
      "memory usage: 18.9+ KB\n",
      "None\n",
      "species               0\n",
      "island                0\n",
      "bill_length_mm        2\n",
      "bill_depth_mm         2\n",
      "flipper_length_mm     2\n",
      "body_mass_g           2\n",
      "sex                  11\n",
      "dtype: int64\n",
      "       bill_length_mm  bill_depth_mm  flipper_length_mm  body_mass_g\n",
      "count      342.000000     342.000000         342.000000   342.000000\n",
      "mean        43.921930      17.151170         200.915205  4201.754386\n",
      "std          5.459584       1.974793          14.061714   801.954536\n",
      "min         32.100000      13.100000         172.000000  2700.000000\n",
      "25%         39.225000      15.600000         190.000000  3550.000000\n",
      "50%         44.450000      17.300000         197.000000  4050.000000\n",
      "75%         48.500000      18.700000         213.000000  4750.000000\n",
      "max         59.600000      21.500000         231.000000  6300.000000\n"
     ]
    }
   ],
   "source": [
    "print(\"Shape:\", df_penguins.shape)\n",
    "print(df_penguins.info())\n",
    "print(df_penguins.isnull().sum())\n",
    "print(df_penguins.describe())"
   ]
  },
  {
   "cell_type": "markdown",
   "id": "49e7f601",
   "metadata": {},
   "source": [
    "### Insights:\n",
    "\n",
    "1.  The dataset has 344 records with measurements for 3 penguin species.\n",
    " \n",
    "2. There are missing values in bill_length_mm, bill_depth_mm, flipper_length_mm, body_mass_g, and sex."
   ]
  },
  {
   "cell_type": "markdown",
   "id": "c1a25f59",
   "metadata": {},
   "source": [
    "### 5. Data Cleaning"
   ]
  },
  {
   "cell_type": "code",
   "execution_count": 5,
   "id": "c8d54fe8",
   "metadata": {},
   "outputs": [
    {
     "name": "stdout",
     "output_type": "stream",
     "text": [
      "Shape after dropping nulls: (333, 7)\n"
     ]
    }
   ],
   "source": [
    "# Drop rows with any missing values\n",
    "df_penguins.dropna(inplace=True)\n",
    "print(\"Shape after dropping nulls:\", df_penguins.shape)"
   ]
  },
  {
   "cell_type": "markdown",
   "id": "14dfe23b",
   "metadata": {},
   "source": [
    "### Insights:\n",
    "\n",
    "1. Since only a small number of rows have missing data (11 out of 344), dropping them is a simple and effective cleaning strategy that won't significantly impact the overall dataset."
   ]
  },
  {
   "cell_type": "markdown",
   "id": "65027422",
   "metadata": {},
   "source": [
    "### 6. Analysis with NumPy & Pandas"
   ]
  },
  {
   "cell_type": "code",
   "execution_count": 6,
   "id": "28137db0",
   "metadata": {},
   "outputs": [
    {
     "name": "stdout",
     "output_type": "stream",
     "text": [
      "Average Body Mass (g): 4207.057057057057\n",
      "Average Body Mass by Species:\n",
      " species\n",
      "Adelie       3706.164384\n",
      "Chinstrap    3733.088235\n",
      "Gentoo       5092.436975\n",
      "Name: body_mass_g, dtype: float64\n",
      "Average Body Mass by Sex:\n",
      " sex\n",
      "Female    3862.272727\n",
      "Male      4545.684524\n",
      "Name: body_mass_g, dtype: float64\n"
     ]
    }
   ],
   "source": [
    "# Average body mass\n",
    "avg_mass = np.mean(df_penguins['body_mass_g'])\n",
    "print(\"Average Body Mass (g):\", avg_mass)\n",
    "\n",
    "# Average body mass by species\n",
    "mass_by_species = df_penguins.groupby('species')['body_mass_g'].mean()\n",
    "print(\"Average Body Mass by Species:\\n\", mass_by_species)\n",
    "\n",
    "# Average body mass by sex\n",
    "mass_by_sex = df_penguins.groupby('sex')['body_mass_g'].mean()\n",
    "print(\"Average Body Mass by Sex:\\n\", mass_by_sex)"
   ]
  },
  {
   "cell_type": "markdown",
   "id": "fd092cf5",
   "metadata": {},
   "source": [
    "### Insights:\n",
    "\n",
    "1.  The average penguin body mass is about 4207 grams.\n",
    "\n",
    "2. Gentoo penguins are significantly heavier on average than Adelie and Chinstrap penguins.\n",
    " \n",
    "3. Male penguins are, on average, heavier than female penguins."
   ]
  },
  {
   "cell_type": "markdown",
   "id": "0b5c5b1c",
   "metadata": {},
   "source": [
    "### 7. Visualization with Matplotlib & Seaborn"
   ]
  },
  {
   "cell_type": "code",
   "execution_count": 7,
   "id": "d6f9c522",
   "metadata": {},
   "outputs": [
    {
     "data": {
      "image/png": "[encoded data removed]",
      "text/plain": [
       "<Figure size 640x480 with 1 Axes>"
      ]
     },
     "metadata": {},
     "output_type": "display_data"
    }
   ],
   "source": [
    "# Histogram of Flipper Length\n",
    "sns.histplot(df_penguins['flipper_length_mm'], bins=15, kde=True, color='orange')\n",
    "plt.title(\"Distribution of Flipper Length\")\n",
    "plt.show()"
   ]
  },
  {
   "cell_type": "markdown",
   "id": "eb9f5de2",
   "metadata": {},
   "source": [
    "### Insights:\n",
    "\n",
    "1. The distribution appears bimodal, suggesting at least two distinct groups of penguins based on flipper length. This is likely due to the different species in the dataset."
   ]
  },
  {
   "cell_type": "code",
   "execution_count": 8,
   "id": "c9b0bb1c",
   "metadata": {},
   "outputs": [
    {
     "data": {
      "image/png": "[encoded data removed]",
      "text/plain": [
       "<Figure size 640x480 with 1 Axes>"
      ]
     },
     "metadata": {},
     "output_type": "display_data"
    }
   ],
   "source": [
    "# Countplot of species by island\n",
    "sns.countplot(x='island', hue='species', data=df_penguins)\n",
    "plt.title(\"Penguin Species Distribution by Island\")\n",
    "plt.show()"
   ]
  },
  {
   "cell_type": "markdown",
   "id": "972c91a9",
   "metadata": {},
   "source": [
    "### Insights:\n",
    "\n",
    "1. Adelie penguins are found on all three islands.\n",
    "\n",
    "2. Gentoo penguins are found only on Biscoe island.\n",
    "\n",
    "3. Chinstrap penguins are found only on Dream island.\n"
   ]
  },
  {
   "cell_type": "code",
   "execution_count": null,
   "id": "034f00c1",
   "metadata": {},
   "outputs": [],
   "source": []
  }
 ],
 "metadata": {
  "kernelspec": {
   "display_name": "base",
   "language": "python",
   "name": "python3"
  },
  "language_info": {
   "codemirror_mode": {
    "name": "ipython",
    "version": 3
   },
   "file_extension": ".py",
   "mimetype": "text/x-python",
   "name": "python",
   "nbconvert_exporter": "python",
   "pygments_lexer": "ipython3",
   "version": "3.13.5"
  }
 },
 "nbformat": 4,
 "nbformat_minor": 5
}
