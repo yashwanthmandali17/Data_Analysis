{
 "cells": [
  {
   "cell_type": "markdown",
   "id": "208c5240",
   "metadata": {},
   "source": [
    "## Goal:\n",
    "### Explore Diamonds dataset, clean data, perform analysis, and visualize results using NumPy, Pandas, Matplotlib, and Seaborn."
   ]
  },
  {
   "cell_type": "markdown",
   "id": "fa6dfceb",
   "metadata": {},
   "source": [
    "# Dataset: Diamonds"
   ]
  },
  {
   "cell_type": "markdown",
   "id": "74a223bd",
   "metadata": {},
   "source": [
    "### 1. Why This Project?\n",
    " \n",
    "##### 1.Learn data cleaning with Pandas.\n",
    " \n",
    "##### 2.Use NumPy for calculations (mean, median, etc.).\n",
    " \n",
    "##### 3.Visualize trends using Matplotlib and Seaborn.\n",
    " \n",
    "##### 4.Understand the relationship between different columns in dataset."
   ]
  },
  {
   "cell_type": "markdown",
   "id": "d4cd5cf8",
   "metadata": {},
   "source": [
    "### 2. Import Libraries"
   ]
  },
  {
   "cell_type": "code",
   "execution_count": 2,
   "id": "bc83329e",
   "metadata": {},
   "outputs": [],
   "source": [
    "import numpy as np\n",
    "import pandas as pd\n",
    "import matplotlib.pyplot as plt\n",
    "import seaborn as sns\n",
    "sns.set_theme(style=\"whitegrid\")"
   ]
  },
  {
   "cell_type": "markdown",
   "id": "ed38a155",
   "metadata": {},
   "source": [
    "### 3. Load Dataset\n"
   ]
  },
  {
   "cell_type": "code",
   "execution_count": 3,
   "id": "1002ffe3",
   "metadata": {},
   "outputs": [
    {
     "data": {
      "text/html": [
       "<div>\n",
       "<style scoped>\n",
       "    .dataframe tbody tr th:only-of-type {\n",
       "        vertical-align: middle;\n",
       "    }\n",
       "\n",
       "    .dataframe tbody tr th {\n",
       "        vertical-align: top;\n",
       "    }\n",
       "\n",
       "    .dataframe thead th {\n",
       "        text-align: right;\n",
       "    }\n",
       "</style>\n",
       "<table border=\"1\" class=\"dataframe\">\n",
       "  <thead>\n",
       "    <tr style=\"text-align: right;\">\n",
       "      <th></th>\n",
       "      <th>carat</th>\n",
       "      <th>cut</th>\n",
       "      <th>color</th>\n",
       "      <th>clarity</th>\n",
       "      <th>depth</th>\n",
       "      <th>table</th>\n",
       "      <th>price</th>\n",
       "      <th>x</th>\n",
       "      <th>y</th>\n",
       "      <th>z</th>\n",
       "    </tr>\n",
       "  </thead>\n",
       "  <tbody>\n",
       "    <tr>\n",
       "      <th>0</th>\n",
       "      <td>0.23</td>\n",
       "      <td>Ideal</td>\n",
       "      <td>E</td>\n",
       "      <td>SI2</td>\n",
       "      <td>61.5</td>\n",
       "      <td>55.0</td>\n",
       "      <td>326</td>\n",
       "      <td>3.95</td>\n",
       "      <td>3.98</td>\n",
       "      <td>2.43</td>\n",
       "    </tr>\n",
       "    <tr>\n",
       "      <th>1</th>\n",
       "      <td>0.21</td>\n",
       "      <td>Premium</td>\n",
       "      <td>E</td>\n",
       "      <td>SI1</td>\n",
       "      <td>59.8</td>\n",
       "      <td>61.0</td>\n",
       "      <td>326</td>\n",
       "      <td>3.89</td>\n",
       "      <td>3.84</td>\n",
       "      <td>2.31</td>\n",
       "    </tr>\n",
       "    <tr>\n",
       "      <th>2</th>\n",
       "      <td>0.23</td>\n",
       "      <td>Good</td>\n",
       "      <td>E</td>\n",
       "      <td>VS1</td>\n",
       "      <td>56.9</td>\n",
       "      <td>65.0</td>\n",
       "      <td>327</td>\n",
       "      <td>4.05</td>\n",
       "      <td>4.07</td>\n",
       "      <td>2.31</td>\n",
       "    </tr>\n",
       "    <tr>\n",
       "      <th>3</th>\n",
       "      <td>0.29</td>\n",
       "      <td>Premium</td>\n",
       "      <td>I</td>\n",
       "      <td>VS2</td>\n",
       "      <td>62.4</td>\n",
       "      <td>58.0</td>\n",
       "      <td>334</td>\n",
       "      <td>4.20</td>\n",
       "      <td>4.23</td>\n",
       "      <td>2.63</td>\n",
       "    </tr>\n",
       "    <tr>\n",
       "      <th>4</th>\n",
       "      <td>0.31</td>\n",
       "      <td>Good</td>\n",
       "      <td>J</td>\n",
       "      <td>SI2</td>\n",
       "      <td>63.3</td>\n",
       "      <td>58.0</td>\n",
       "      <td>335</td>\n",
       "      <td>4.34</td>\n",
       "      <td>4.35</td>\n",
       "      <td>2.75</td>\n",
       "    </tr>\n",
       "  </tbody>\n",
       "</table>\n",
       "</div>"
      ],
      "text/plain": [
       "   carat      cut color clarity  depth  table  price     x     y     z\n",
       "0   0.23    Ideal     E     SI2   61.5   55.0    326  3.95  3.98  2.43\n",
       "1   0.21  Premium     E     SI1   59.8   61.0    326  3.89  3.84  2.31\n",
       "2   0.23     Good     E     VS1   56.9   65.0    327  4.05  4.07  2.31\n",
       "3   0.29  Premium     I     VS2   62.4   58.0    334  4.20  4.23  2.63\n",
       "4   0.31     Good     J     SI2   63.3   58.0    335  4.34  4.35  2.75"
      ]
     },
     "execution_count": 3,
     "metadata": {},
     "output_type": "execute_result"
    }
   ],
   "source": [
    "df_diamonds = sns.load_dataset('diamonds')\n",
    "df_diamonds.head()"
   ]
  },
  {
   "cell_type": "markdown",
   "id": "7836867c",
   "metadata": {},
   "source": [
    "### 4. Explore Data\n",
    " "
   ]
  },
  {
   "cell_type": "code",
   "execution_count": 4,
   "id": "4829f577",
   "metadata": {},
   "outputs": [
    {
     "name": "stdout",
     "output_type": "stream",
     "text": [
      "Shape: (53940, 10)\n",
      "<class 'pandas.core.frame.DataFrame'>\n",
      "RangeIndex: 53940 entries, 0 to 53939\n",
      "Data columns (total 10 columns):\n",
      " #   Column   Non-Null Count  Dtype   \n",
      "---  ------   --------------  -----   \n",
      " 0   carat    53940 non-null  float64 \n",
      " 1   cut      53940 non-null  category\n",
      " 2   color    53940 non-null  category\n",
      " 3   clarity  53940 non-null  category\n",
      " 4   depth    53940 non-null  float64 \n",
      " 5   table    53940 non-null  float64 \n",
      " 6   price    53940 non-null  int64   \n",
      " 7   x        53940 non-null  float64 \n",
      " 8   y        53940 non-null  float64 \n",
      " 9   z        53940 non-null  float64 \n",
      "dtypes: category(3), float64(6), int64(1)\n",
      "memory usage: 3.0 MB\n",
      "None\n",
      "carat      0\n",
      "cut        0\n",
      "color      0\n",
      "clarity    0\n",
      "depth      0\n",
      "table      0\n",
      "price      0\n",
      "x          0\n",
      "y          0\n",
      "z          0\n",
      "dtype: int64\n",
      "              carat         depth         table         price             x  \\\n",
      "count  53940.000000  53940.000000  53940.000000  53940.000000  53940.000000   \n",
      "mean       0.797940     61.749405     57.457184   3932.799722      5.731157   \n",
      "std        0.474011      1.432621      2.234491   3989.439738      1.121761   \n",
      "min        0.200000     43.000000     43.000000    326.000000      0.000000   \n",
      "25%        0.400000     61.000000     56.000000    950.000000      4.710000   \n",
      "50%        0.700000     61.800000     57.000000   2401.000000      5.700000   \n",
      "75%        1.040000     62.500000     59.000000   5324.250000      6.540000   \n",
      "max        5.010000     79.000000     95.000000  18823.000000     10.740000   \n",
      "\n",
      "                  y             z  \n",
      "count  53940.000000  53940.000000  \n",
      "mean       5.734526      3.538734  \n",
      "std        1.142135      0.705699  \n",
      "min        0.000000      0.000000  \n",
      "25%        4.720000      2.910000  \n",
      "50%        5.710000      3.530000  \n",
      "75%        6.540000      4.040000  \n",
      "max       58.900000     31.800000  \n"
     ]
    }
   ],
   "source": [
    "print(\"Shape:\", df_diamonds.shape)\n",
    "print(df_diamonds.info())\n",
    "print(df_diamonds.isnull().sum())\n",
    "print(df_diamonds.describe())"
   ]
  },
  {
   "cell_type": "markdown",
   "id": "49e7f601",
   "metadata": {},
   "source": [
    "### Insights:\n",
    " \n",
    "1. This is a large dataset with 53,940 records.\n",
    " \n",
    "2. There are no missing values.\n",
    " \n",
    "3. The features x, y, and z have minimum values of 0, which is physically impossible for a diamond's dimensions and may represent data errors. However, for this analysis, we will proceed without cleaning them."
   ]
  },
  {
   "cell_type": "markdown",
   "id": "65027422",
   "metadata": {},
   "source": [
    "### 5. Analysis with NumPy & Pandas"
   ]
  },
  {
   "cell_type": "code",
   "execution_count": 5,
   "id": "28137db0",
   "metadata": {},
   "outputs": [
    {
     "name": "stdout",
     "output_type": "stream",
     "text": [
      "Average Price: 3932.799721913237\n",
      "Average Price by Cut:\n",
      " cut\n",
      "Ideal        3457.541970\n",
      "Premium      4584.257704\n",
      "Very Good    3981.759891\n",
      "Good         3928.864452\n",
      "Fair         4358.757764\n",
      "Name: price, dtype: float64\n",
      "Average Price by Color:\n",
      " color\n",
      "D    3169.954096\n",
      "E    3076.752475\n",
      "F    3724.886397\n",
      "G    3999.135671\n",
      "H    4486.669196\n",
      "I    5091.874954\n",
      "J    5323.818020\n",
      "Name: price, dtype: float64\n"
     ]
    },
    {
     "name": "stderr",
     "output_type": "stream",
     "text": [
      "C:\\Users\\yashw\\AppData\\Local\\Temp\\ipykernel_18768\\2944076696.py:6: FutureWarning: The default of observed=False is deprecated and will be changed to True in a future version of pandas. Pass observed=False to retain current behavior or observed=True to adopt the future default and silence this warning.\n",
      "  avg_price_by_cut = df_diamonds.groupby('cut')['price'].mean()\n",
      "C:\\Users\\yashw\\AppData\\Local\\Temp\\ipykernel_18768\\2944076696.py:10: FutureWarning: The default of observed=False is deprecated and will be changed to True in a future version of pandas. Pass observed=False to retain current behavior or observed=True to adopt the future default and silence this warning.\n",
      "  avg_price_by_color = df_diamonds.groupby('color')['price'].mean()\n"
     ]
    }
   ],
   "source": [
    "# Average price\n",
    "avg_price = np.mean(df_diamonds['price'])\n",
    "print(\"Average Price:\", avg_price)\n",
    "\n",
    "# Average price by cut\n",
    "avg_price_by_cut = df_diamonds.groupby('cut')['price'].mean()\n",
    "print(\"Average Price by Cut:\\n\", avg_price_by_cut)\n",
    "\n",
    "# Average price by color\n",
    "avg_price_by_color = df_diamonds.groupby('color')['price'].mean()\n",
    "print(\"Average Price by Color:\\n\", avg_price_by_color)"
   ]
  },
  {
   "cell_type": "markdown",
   "id": "fd092cf5",
   "metadata": {},
   "source": [
    "### Insights:\n",
    "\n",
    "1.  The average price of a diamond in the dataset is approximately $3933.\n",
    " \n",
    "2. Contrary to intuition, \"Premium\" and \"Fair\" cuts have higher average prices than \"Ideal\" cuts, likely because price is heavily influenced by carat, which might be larger in these cut categories.\n",
    " \n",
    "3. Price increases as the color grade worsens (from D to J), which is also counter-intuitive and likely influenced by other factors like carat size."
   ]
  },
  {
   "cell_type": "markdown",
   "id": "0b5c5b1c",
   "metadata": {},
   "source": [
    "### 6. Visualization with Matplotlib & Seaborn"
   ]
  },
  {
   "cell_type": "code",
   "execution_count": 6,
   "id": "d6f9c522",
   "metadata": {},
   "outputs": [
    {
     "data": {
      "image/png": "[encoded data removed]",
      "text/plain": [
       "<Figure size 640x480 with 1 Axes>"
      ]
     },
     "metadata": {},
     "output_type": "display_data"
    }
   ],
   "source": [
    "# Bar plot of average price by cut\n",
    "cut_cat = avg_price_by_cut.index\n",
    "price_val = avg_price_by_cut.values\n",
    "\n",
    "plt.bar(cut_cat, price_val, color='skyblue')\n",
    "plt.title(\"Average Price by Cut\")\n",
    "plt.xlabel(\"Cut\")\n",
    "plt.ylabel(\"Average Price ($)\")\n",
    "plt.show()"
   ]
  },
  {
   "cell_type": "markdown",
   "id": "eb9f5de2",
   "metadata": {},
   "source": [
    "### Insights:\n",
    "\n",
    "1. This visual confirms that Premium cut diamonds have the highest average price, while Ideal cut diamonds have the lowest. This highlights that cut is not the only driver of price."
   ]
  },
  {
   "cell_type": "code",
   "execution_count": 7,
   "id": "c9b0bb1c",
   "metadata": {},
   "outputs": [
    {
     "name": "stderr",
     "output_type": "stream",
     "text": [
      "C:\\Users\\yashw\\AppData\\Local\\Temp\\ipykernel_18768\\2753354344.py:2: FutureWarning: \n",
      "\n",
      "Passing `palette` without assigning `hue` is deprecated and will be removed in v0.14.0. Assign the `x` variable to `hue` and set `legend=False` for the same effect.\n",
      "\n",
      "  sns.countplot(x='cut', data=df_diamonds, palette='viridis')\n"
     ]
    },
    {
     "data": {
      "image/png": "[encoded data removed]",
      "text/plain": [
       "<Figure size 640x480 with 1 Axes>"
      ]
     },
     "metadata": {},
     "output_type": "display_data"
    }
   ],
   "source": [
    "# Countplot of Cut\n",
    "sns.countplot(x='cut', data=df_diamonds, palette='viridis')\n",
    "plt.title(\"Count of Diamonds by Cut\")\n",
    "plt.show()"
   ]
  },
  {
   "cell_type": "markdown",
   "id": "972c91a9",
   "metadata": {},
   "source": [
    "### Insights:\n",
    "\n",
    "1. The most common cut in the dataset is Ideal, followed by Premium and Very Good.\n",
    "\n",
    "2. Fair is the least common cut."
   ]
  },
  {
   "cell_type": "code",
   "execution_count": null,
   "id": "034f00c1",
   "metadata": {},
   "outputs": [],
   "source": []
  }
 ],
 "metadata": {
  "kernelspec": {
   "display_name": "base",
   "language": "python",
   "name": "python3"
  },
  "language_info": {
   "codemirror_mode": {
    "name": "ipython",
    "version": 3
   },
   "file_extension": ".py",
   "mimetype": "text/x-python",
   "name": "python",
   "nbconvert_exporter": "python",
   "pygments_lexer": "ipython3",
   "version": "3.13.5"
  }
 },
 "nbformat": 4,
 "nbformat_minor": 5
}
