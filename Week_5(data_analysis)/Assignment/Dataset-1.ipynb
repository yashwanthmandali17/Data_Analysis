{
 "cells": [
  {
   "cell_type": "markdown",
   "id": "208c5240",
   "metadata": {},
   "source": [
    "## Goal:\n",
    "### Explore Tips dataset, clean data, perform analysis, and visualize results using NumPy, Pandas, Matplotlib, and Seaborn."
   ]
  },
  {
   "cell_type": "markdown",
   "id": "fa6dfceb",
   "metadata": {},
   "source": [
    "# Dataset: Tips"
   ]
  },
  {
   "cell_type": "markdown",
   "id": "74a223bd",
   "metadata": {},
   "source": [
    "### 1. Why This Project?\n",
    " \n",
    "##### 1.Learn data cleaning with Pandas.\n",
    " \n",
    "##### 2.Use NumPy for calculations (mean, median, etc.).\n",
    " \n",
    "##### 3.Visualize trends using Matplotlib and Seaborn.\n",
    " \n",
    "##### 4.Understand the relationship between different columns in dataset."
   ]
  },
  {
   "cell_type": "markdown",
   "id": "d4cd5cf8",
   "metadata": {},
   "source": [
    "### 2. Import Libraries"
   ]
  },
  {
   "cell_type": "code",
   "execution_count": 2,
   "id": "bc83329e",
   "metadata": {},
   "outputs": [],
   "source": [
    "import numpy as np\n",
    "import pandas as pd\n",
    "import matplotlib.pyplot as plt\n",
    "import seaborn as sns\n",
    "sns.set_theme(style=\"whitegrid\")"
   ]
  },
  {
   "cell_type": "markdown",
   "id": "ed38a155",
   "metadata": {},
   "source": [
    "### 3. Load Dataset\n"
   ]
  },
  {
   "cell_type": "code",
   "execution_count": 3,
   "id": "1002ffe3",
   "metadata": {},
   "outputs": [
    {
     "data": {
      "text/html": [
       "<div>\n",
       "<style scoped>\n",
       "    .dataframe tbody tr th:only-of-type {\n",
       "        vertical-align: middle;\n",
       "    }\n",
       "\n",
       "    .dataframe tbody tr th {\n",
       "        vertical-align: top;\n",
       "    }\n",
       "\n",
       "    .dataframe thead th {\n",
       "        text-align: right;\n",
       "    }\n",
       "</style>\n",
       "<table border=\"1\" class=\"dataframe\">\n",
       "  <thead>\n",
       "    <tr style=\"text-align: right;\">\n",
       "      <th></th>\n",
       "      <th>total_bill</th>\n",
       "      <th>tip</th>\n",
       "      <th>sex</th>\n",
       "      <th>smoker</th>\n",
       "      <th>day</th>\n",
       "      <th>time</th>\n",
       "      <th>size</th>\n",
       "    </tr>\n",
       "  </thead>\n",
       "  <tbody>\n",
       "    <tr>\n",
       "      <th>0</th>\n",
       "      <td>16.99</td>\n",
       "      <td>1.01</td>\n",
       "      <td>Female</td>\n",
       "      <td>No</td>\n",
       "      <td>Sun</td>\n",
       "      <td>Dinner</td>\n",
       "      <td>2</td>\n",
       "    </tr>\n",
       "    <tr>\n",
       "      <th>1</th>\n",
       "      <td>10.34</td>\n",
       "      <td>1.66</td>\n",
       "      <td>Male</td>\n",
       "      <td>No</td>\n",
       "      <td>Sun</td>\n",
       "      <td>Dinner</td>\n",
       "      <td>3</td>\n",
       "    </tr>\n",
       "    <tr>\n",
       "      <th>2</th>\n",
       "      <td>21.01</td>\n",
       "      <td>3.50</td>\n",
       "      <td>Male</td>\n",
       "      <td>No</td>\n",
       "      <td>Sun</td>\n",
       "      <td>Dinner</td>\n",
       "      <td>3</td>\n",
       "    </tr>\n",
       "    <tr>\n",
       "      <th>3</th>\n",
       "      <td>23.68</td>\n",
       "      <td>3.31</td>\n",
       "      <td>Male</td>\n",
       "      <td>No</td>\n",
       "      <td>Sun</td>\n",
       "      <td>Dinner</td>\n",
       "      <td>2</td>\n",
       "    </tr>\n",
       "    <tr>\n",
       "      <th>4</th>\n",
       "      <td>24.59</td>\n",
       "      <td>3.61</td>\n",
       "      <td>Female</td>\n",
       "      <td>No</td>\n",
       "      <td>Sun</td>\n",
       "      <td>Dinner</td>\n",
       "      <td>4</td>\n",
       "    </tr>\n",
       "  </tbody>\n",
       "</table>\n",
       "</div>"
      ],
      "text/plain": [
       "   total_bill   tip     sex smoker  day    time  size\n",
       "0       16.99  1.01  Female     No  Sun  Dinner     2\n",
       "1       10.34  1.66    Male     No  Sun  Dinner     3\n",
       "2       21.01  3.50    Male     No  Sun  Dinner     3\n",
       "3       23.68  3.31    Male     No  Sun  Dinner     2\n",
       "4       24.59  3.61  Female     No  Sun  Dinner     4"
      ]
     },
     "execution_count": 3,
     "metadata": {},
     "output_type": "execute_result"
    }
   ],
   "source": [
    "df_tips = sns.load_dataset('tips')\n",
    "df_tips.head()"
   ]
  },
  {
   "cell_type": "markdown",
   "id": "7836867c",
   "metadata": {},
   "source": [
    "### 4. Explore Data\n",
    " "
   ]
  },
  {
   "cell_type": "code",
   "execution_count": 4,
   "id": "4829f577",
   "metadata": {},
   "outputs": [
    {
     "name": "stdout",
     "output_type": "stream",
     "text": [
      "Shape: (244, 7)\n",
      "<class 'pandas.core.frame.DataFrame'>\n",
      "RangeIndex: 244 entries, 0 to 243\n",
      "Data columns (total 7 columns):\n",
      " #   Column      Non-Null Count  Dtype   \n",
      "---  ------      --------------  -----   \n",
      " 0   total_bill  244 non-null    float64 \n",
      " 1   tip         244 non-null    float64 \n",
      " 2   sex         244 non-null    category\n",
      " 3   smoker      244 non-null    category\n",
      " 4   day         244 non-null    category\n",
      " 5   time        244 non-null    category\n",
      " 6   size        244 non-null    int64   \n",
      "dtypes: category(4), float64(2), int64(1)\n",
      "memory usage: 7.4 KB\n",
      "None\n",
      "total_bill    0\n",
      "tip           0\n",
      "sex           0\n",
      "smoker        0\n",
      "day           0\n",
      "time          0\n",
      "size          0\n",
      "dtype: int64\n",
      "       total_bill         tip        size\n",
      "count  244.000000  244.000000  244.000000\n",
      "mean    19.785943    2.998279    2.569672\n",
      "std      8.902412    1.383638    0.951100\n",
      "min      3.070000    1.000000    1.000000\n",
      "25%     13.347500    2.000000    2.000000\n",
      "50%     17.795000    2.900000    2.000000\n",
      "75%     24.127500    3.562500    3.000000\n",
      "max     50.810000   10.000000    6.000000\n"
     ]
    }
   ],
   "source": [
    "print(\"Shape:\", df_tips.shape)\n",
    "print(df_tips.info())\n",
    "print(df_tips.isnull().sum())\n",
    "print(df_tips.describe())"
   ]
  },
  {
   "cell_type": "markdown",
   "id": "49e7f601",
   "metadata": {},
   "source": [
    "### Insights:\n",
    " \n",
    "1. The dataset contains 244 records with features about dining bills and tips.\n",
    " \n",
    "2. There are no missing values, so data cleaning for nulls isn't needed.\n",
    " \n",
    "3. The data includes numerical (total_bill, tip) and categorical (sex, smoker, day, time) features."
   ]
  },
  {
   "cell_type": "markdown",
   "id": "65027422",
   "metadata": {},
   "source": [
    "### 5. Analysis with NumPy & Pandas"
   ]
  },
  {
   "cell_type": "code",
   "execution_count": 5,
   "id": "28137db0",
   "metadata": {},
   "outputs": [
    {
     "name": "stdout",
     "output_type": "stream",
     "text": [
      "Average Tip: 2.99827868852459\n",
      "Average Tip Percentage: 16.08025817225047\n",
      "Average Tip by Day:\n",
      " day\n",
      "Thur    2.771452\n",
      "Fri     2.734737\n",
      "Sat     2.993103\n",
      "Sun     3.255132\n",
      "Name: tip, dtype: float64\n",
      "Average Tip by Smoker:\n",
      " smoker\n",
      "Yes    3.008710\n",
      "No     2.991854\n",
      "Name: tip, dtype: float64\n"
     ]
    },
    {
     "name": "stderr",
     "output_type": "stream",
     "text": [
      "C:\\Users\\yashw\\AppData\\Local\\Temp\\ipykernel_15560\\3458801810.py:10: FutureWarning: The default of observed=False is deprecated and will be changed to True in a future version of pandas. Pass observed=False to retain current behavior or observed=True to adopt the future default and silence this warning.\n",
      "  avg_tip_by_day = df_tips.groupby('day')['tip'].mean()\n",
      "C:\\Users\\yashw\\AppData\\Local\\Temp\\ipykernel_15560\\3458801810.py:14: FutureWarning: The default of observed=False is deprecated and will be changed to True in a future version of pandas. Pass observed=False to retain current behavior or observed=True to adopt the future default and silence this warning.\n",
      "  avg_tip_by_smoker = df_tips.groupby('smoker')['tip'].mean()\n"
     ]
    }
   ],
   "source": [
    "# Average tip amount\n",
    "avg_tip = np.mean(df_tips['tip'])\n",
    "print(\"Average Tip:\", avg_tip)\n",
    "\n",
    "# Tip percentage\n",
    "df_tips['tip_percentage'] = (df_tips['tip'] / df_tips['total_bill']) * 100\n",
    "print(\"Average Tip Percentage:\", df_tips['tip_percentage'].mean())\n",
    " \n",
    "# Average tip by day\n",
    "avg_tip_by_day = df_tips.groupby('day')['tip'].mean()\n",
    "print(\"Average Tip by Day:\\n\", avg_tip_by_day)\n",
    " \n",
    "# Average tip by smoker status\n",
    "avg_tip_by_smoker = df_tips.groupby('smoker')['tip'].mean()\n",
    "print(\"Average Tip by Smoker:\\n\", avg_tip_by_smoker)"
   ]
  },
  {
   "cell_type": "markdown",
   "id": "fd092cf5",
   "metadata": {},
   "source": [
    "### Insights:\n",
    " \n",
    "1. The average tip is approximately $3.00.\n",
    " \n",
    "2. The average tip percentage is about 16%.\n",
    " \n",
    "3. Sunday sees the highest average tips, while Friday sees the lowest.\n",
    " \n",
    "4. There's almost no difference in average tips between smokers and non-smokers."
   ]
  },
  {
   "cell_type": "markdown",
   "id": "0b5c5b1c",
   "metadata": {},
   "source": [
    "### 6. Visualization with Matplotlib & Seaborn"
   ]
  },
  {
   "cell_type": "code",
   "execution_count": 6,
   "id": "d6f9c522",
   "metadata": {},
   "outputs": [
    {
     "data": {
      "image/png": "[encoded data removed]",
      "text/plain": [
       "<Figure size 640x480 with 1 Axes>"
      ]
     },
     "metadata": {},
     "output_type": "display_data"
    }
   ],
   "source": [
    "# Bar chart of average tip by day\n",
    "days = avg_tip_by_day.index\n",
    "rates = avg_tip_by_day.values\n",
    " \n",
    "plt.bar(days, rates, color='teal')\n",
    "plt.title(\"Average Tip by Day\")\n",
    "plt.xlabel(\"Day of the Week\")\n",
    "plt.ylabel(\"Average Tip ($)\")\n",
    "plt.show()"
   ]
  },
  {
   "cell_type": "markdown",
   "id": "eb9f5de2",
   "metadata": {},
   "source": [
    "### Insights:\n",
    "\n",
    "1. The visual confirms that tips are highest on Sunday.\n",
    "\n",
    "2. Tips are relatively consistent across other days but lowest on Friday."
   ]
  },
  {
   "cell_type": "code",
   "execution_count": 7,
   "id": "c9b0bb1c",
   "metadata": {},
   "outputs": [
    {
     "data": {
      "image/png": "[encoded data removed]",
      "text/plain": [
       "<Figure size 640x480 with 1 Axes>"
      ]
     },
     "metadata": {},
     "output_type": "display_data"
    }
   ],
   "source": [
    "# Histogram of Total Bill\n",
    "sns.histplot(df_tips['total_bill'], bins=20, kde=True, color='purple')\n",
    "plt.title(\"Distribution of Total Bill\")\n",
    "plt.show()"
   ]
  },
  {
   "cell_type": "markdown",
   "id": "972c91a9",
   "metadata": {},
   "source": [
    "### Insights:\n",
    "\n",
    "1. Most bills are concentrated in the $10-$25 range.\n",
    "\n",
    "2. The distribution is right-skewed, indicating fewer, but much higher, bills."
   ]
  },
  {
   "cell_type": "code",
   "execution_count": null,
   "id": "034f00c1",
   "metadata": {},
   "outputs": [],
   "source": []
  }
 ],
 "metadata": {
  "kernelspec": {
   "display_name": "base",
   "language": "python",
   "name": "python3"
  },
  "language_info": {
   "codemirror_mode": {
    "name": "ipython",
    "version": 3
   },
   "file_extension": ".py",
   "mimetype": "text/x-python",
   "name": "python",
   "nbconvert_exporter": "python",
   "pygments_lexer": "ipython3",
   "version": "3.13.5"
  }
 },
 "nbformat": 4,
 "nbformat_minor": 5
}
