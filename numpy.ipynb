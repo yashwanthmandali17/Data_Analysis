{
 "cells": [
  {
   "cell_type": "markdown",
   "id": "1d60f59f",
   "metadata": {},
   "source": [
    "# NumPy – Numerical Python\n",
    "## 1. Why Learn NumPy?\n",
    "\n",
    "#### What is it?\n",
    "\n",
    "NumPy is a powerful Python library for numerical computations. It provides fast and memory-efficient multi-dimensional arrays.\n",
    "\n",
    "#### Why we need it?\n",
    "\n",
    "1.Pure Python lists are slow for large datasets.\n",
    "\n",
    "2.NumPy arrays are optimized for speed and vectorized operations.\n",
    "\n",
    "3.Most Data Science & Machine Learning libraries (like Pandas, Scikit-Learn, TensorFlow) are built on top of NumPy.\n",
    "\n",
    "#### Where is it used?\n",
    "\n",
    "1.Data Analysis\n",
    "\n",
    "2.Machine Learning & Deep Learning\n",
    "\n",
    "3.Image Processing (OpenCV, PIL use NumPy arrays)\n",
    "\n",
    "5.Scientific Computing & Simulations"
   ]
  },
  {
   "cell_type": "markdown",
   "id": "b64e4011",
   "metadata": {},
   "source": [
    "## 2. Importing NumPy"
   ]
  },
  {
   "cell_type": "code",
   "execution_count": null,
   "id": "9a793a42",
   "metadata": {},
   "outputs": [],
   "source": [
    "import numpy as np"
   ]
  },
  {
   "cell_type": "markdown",
   "id": "0c52235e",
   "metadata": {},
   "source": [
    "## 3. Arrays vs Python Lists"
   ]
  },
  {
   "cell_type": "code",
   "execution_count": 2,
   "id": "ab7f0fbd",
   "metadata": {},
   "outputs": [],
   "source": [
    "import numpy as np\n",
    "import time\n",
    "\n",
    "# Python list\n",
    "py_list = [i for i in range(1000000)]\n",
    "\n",
    "# NumPy array\n",
    "np_array = np.arange(1000000)"
   ]
  },
  {
   "cell_type": "markdown",
   "id": "3dbf8c47",
   "metadata": {},
   "source": [
    "# Time comparison"
   ]
  },
  {
   "cell_type": "code",
   "execution_count": 3,
   "id": "c9b17e0a",
   "metadata": {},
   "outputs": [
    {
     "name": "stdout",
     "output_type": "stream",
     "text": [
      "Python list sum time: 0.015828847885131836\n",
      "NumPy array sum time: 0.003997802734375\n"
     ]
    }
   ],
   "source": [
    "start = time.time()\n",
    "sum(py_list)\n",
    "print(\"Python list sum time:\", time.time() - start)\n",
    "\n",
    "start = time.time()\n",
    "np.sum(np_array)\n",
    "print(\"NumPy array sum time:\", time.time() - start)"
   ]
  },
  {
   "cell_type": "markdown",
   "id": "71d9f2fb",
   "metadata": {},
   "source": [
    "## 4. Creating Arrays\n",
    "1.np.arange(start, stop, step)\n",
    "\n",
    "Purpose: Creates an array of numbers starting from start up to but not including stop, incremented by step.\n",
    "\n",
    "Your code: np.arange(0, 10, 2)\n",
    "\n",
    "Start = 0\n",
    "\n",
    "Stop = 10 (exclusive)\n",
    "\n",
    "Step = 2\n",
    "\n",
    "2.np.linspace(start, stop, num)\n",
    "\n",
    "Purpose: Creates an array of num equally spaced numbers between start and stop (inclusive).\n",
    "\n",
    "Your code: np.linspace(0, 1, 5)\n",
    "\n",
    "Start = 0\n",
    "\n",
    "Stop = 1 (inclusive)\n",
    "\n",
    "5 numbers evenly spaced"
   ]
  },
  {
   "cell_type": "code",
   "execution_count": 4,
   "id": "6baed2d1",
   "metadata": {},
   "outputs": [
    {
     "name": "stdout",
     "output_type": "stream",
     "text": [
      "Array: [1 2 3 4 5]\n",
      "Zeros: [[0. 0. 0.]\n",
      " [0. 0. 0.]]\n",
      "Ones: [[1. 1. 1.]\n",
      " [1. 1. 1.]]\n",
      "Arange: [0 2 4 6 8]\n",
      "Linspace: [0.   0.25 0.5  0.75 1.  ]\n"
     ]
    }
   ],
   "source": [
    "# From list \n",
    "arr = np.array([1, 2, 3, 4, 5])\n",
    "print(\"Array:\", arr)\n",
    "\n",
    "# Zeros and Ones\n",
    "print(\"Zeros:\", np.zeros((2,3)))\n",
    "print(\"Ones:\", np.ones((2,3)))\n",
    "\n",
    "# Range and Linspace\n",
    "print(\"Arange:\", np.arange(0, 10, 2))\n",
    "print(\"Linspace:\", np.linspace(0, 1, 5))"
   ]
  },
  {
   "cell_type": "code",
   "execution_count": 5,
   "id": "bf51345b",
   "metadata": {},
   "outputs": [
    {
     "name": "stdout",
     "output_type": "stream",
     "text": [
      "Array: [1 2 3 4 5]\n",
      "Zeros: [[0. 0. 0.]]\n",
      "Ones: [[1. 1. 1.]]\n",
      "Arange: [0 3 6]\n",
      "Linspace: [ 0.          0.71428571  1.42857143  2.14285714  2.85714286  3.57142857\n",
      "  4.28571429  5.          5.71428571  6.42857143  7.14285714  7.85714286\n",
      "  8.57142857  9.28571429 10.        ]\n"
     ]
    }
   ],
   "source": [
    "# From list \n",
    "arr = np.array([1, 2, 3, 4, 5])\n",
    "print(\"Array:\", arr)\n",
    "\n",
    "# Zeros and Ones\n",
    "print(\"Zeros:\", np.zeros((1,3)))\n",
    "print(\"Ones:\", np.ones((1,3)))\n",
    "\n",
    "# Range and Linspace\n",
    "print(\"Arange:\", np.arange(0, 7, 3))\n",
    "print(\"Linspace:\", np.linspace(0, 10, 15))"
   ]
  },
  {
   "cell_type": "markdown",
   "id": "7013ea62",
   "metadata": {},
   "source": [
    "## 5. Array Properties\n"
   ]
  },
  {
   "cell_type": "code",
   "execution_count": 6,
   "id": "57421fdc",
   "metadata": {},
   "outputs": [
    {
     "name": "stdout",
     "output_type": "stream",
     "text": [
      "Array shape: (2, 3)\n",
      "Array dtype: int64\n",
      "Array size: 6\n",
      "Array ndim: 2\n"
     ]
    }
   ],
   "source": [
    "arr = np.array([[1,2,3],[4,5,6]])\n",
    "print(\"Array shape:\", arr.shape)\n",
    "print(\"Array dtype:\", arr.dtype)\n",
    "print(\"Array size:\", arr.size)\n",
    "print(\"Array ndim:\", arr.ndim)"
   ]
  },
  {
   "cell_type": "markdown",
   "id": "3bf9e215",
   "metadata": {},
   "source": [
    "## 6. Indexing and Slicing"
   ]
  },
  {
   "cell_type": "code",
   "execution_count": 7,
   "id": "e711a724",
   "metadata": {},
   "outputs": [
    {
     "name": "stdout",
     "output_type": "stream",
     "text": [
      "Element at index 2: 30\n",
      "Elements from index 1 to 3: [20 30 40]\n",
      "Elements at indices 0, 2, 4: [10 30 50]\n",
      "Every second element: [10 30 50]\n",
      "Reversed array: [50 40 30 20 10]\n"
     ]
    }
   ],
   "source": [
    "arr = np.array([10,20,30,40,50])\n",
    "print(\"Element at index 2:\", arr[2])\n",
    "print(\"Elements from index 1 to 3:\", arr[1:4])\n",
    "print(\"Elements at indices 0, 2, 4:\", arr[[0,2,4]])\n",
    "print(\"Every second element:\", arr[::2])\n",
    "print(\"Reversed array:\", arr[::-1])"
   ]
  },
  {
   "cell_type": "code",
   "execution_count": 10,
   "id": "2c05be5a",
   "metadata": {},
   "outputs": [
    {
     "name": "stdout",
     "output_type": "stream",
     "text": [
      "Matrix:\n",
      " [[1 2 3]\n",
      " [4 5 6]\n",
      " [7 8 9]]\n",
      "Matrix shape: (3, 3)\n",
      "Matrix dtype: int64\n",
      "Matrix size: 9\n",
      "Matrix ndim: 2\n",
      "2\n",
      "[4 5 6]\n",
      "[3 6 9]\n",
      "Transpose:\n",
      " [[1 4 7]\n",
      " [2 5 8]\n",
      " [3 6 9]]\n",
      "Sum of all elements: 45\n",
      "Sum of each column: [12 15 18]\n",
      "Sum of each row: [ 6 15 24]\n",
      "Mean of all elements: 5.0\n",
      "Mean of each column: [4. 5. 6.]\n",
      "Mean of each row: [2. 5. 8.]\n",
      "Element-wise multiplication:\n",
      " [[ 2  4  6]\n",
      " [ 8 10 12]\n",
      " [14 16 18]]\n",
      "Matrix multiplication:\n",
      " [[ 30  36  42]\n",
      " [ 66  81  96]\n",
      " [102 126 150]]\n"
     ]
    }
   ],
   "source": [
    "matrix = np.array([[1,2,3],[4,5,6],[7,8,9]])\n",
    "print(\"Matrix:\\n\", matrix)\n",
    "print(\"Matrix shape:\", matrix.shape)\n",
    "print(\"Matrix dtype:\", matrix.dtype)\n",
    "print(\"Matrix size:\", matrix.size)\n",
    "print(\"Matrix ndim:\", matrix.ndim)\n",
    "print(matrix[0,1]) # element at row 0, col 1\n",
    "print(matrix[1,:]) # entire row 1\n",
    "print(matrix[:,2]) # entire col 2\n",
    "# Matrix operations\n",
    "print(\"Transpose:\\n\", matrix.T)\n",
    "print(\"Sum of all elements:\", np.sum(matrix))\n",
    "print(\"Sum of each column:\", np.sum(matrix, axis=0))\n",
    "print(\"Sum of each row:\", np.sum(matrix, axis=1))\n",
    "print(\"Mean of all elements:\", np.mean(matrix))\n",
    "print(\"Mean of each column:\", np.mean(matrix, axis=0))\n",
    "print(\"Mean of each row:\", np.mean(matrix, axis=1))\n",
    "print(\"Element-wise multiplication:\\n\", matrix * 2)\n",
    "print(\"Matrix multiplication:\\n\", np.dot(matrix, matrix))  "
   ]
  },
  {
   "cell_type": "markdown",
   "id": "8df0e000",
   "metadata": {},
   "source": [
    "## 7. Operations and Broadcasting"
   ]
  },
  {
   "cell_type": "code",
   "execution_count": 11,
   "id": "4ec04c46",
   "metadata": {},
   "outputs": [
    {
     "name": "stdout",
     "output_type": "stream",
     "text": [
      "a + b: [5 7 9]\n",
      "a * b: [ 4 10 18]\n",
      "a + 10: [11 12 13]\n",
      "a * 2: [2 4 6]\n"
     ]
    }
   ],
   "source": [
    "a = np.array([1,2,3]) \n",
    "b = np.array([4,5,6])\n",
    "print(\"a + b:\", a + b)            # Element-wise addition\n",
    "print(\"a * b:\", a * b)            # Element-wise multiplication\n",
    "print(\"a + 10:\", a + 10)          # Broadcasting\n",
    "print(\"a * 2:\", a * 2)            # Broadcasting"
   ]
  },
  {
   "cell_type": "markdown",
   "id": "c78f0613",
   "metadata": {},
   "source": [
    "## 8. Mathematical Functions"
   ]
  },
  {
   "cell_type": "code",
   "execution_count": 12,
   "id": "ee47f864",
   "metadata": {},
   "outputs": [
    {
     "name": "stdout",
     "output_type": "stream",
     "text": [
      "Sum: 15\n",
      "Mean: 3.0\n",
      "Max: 5\n",
      "Min: 1\n",
      "Standard Deviation: 1.4142135623730951\n",
      "Variance: 2.0\n",
      "Square Root: [1.         1.41421356 1.73205081 2.         2.23606798]\n",
      "Exponential: [  2.71828183   7.3890561   20.08553692  54.59815003 148.4131591 ]\n",
      "Logarithm: [0.         0.69314718 1.09861229 1.38629436 1.60943791]\n"
     ]
    }
   ],
   "source": [
    "arr = np.array([1,2,3,4,5])\n",
    "print(\"Sum:\", np.sum(arr))\n",
    "print(\"Mean:\", np.mean(arr))\n",
    "print(\"Max:\", np.max(arr))\n",
    "print(\"Min:\", np.min(arr))\n",
    "print(\"Standard Deviation:\", np.std(arr))\n",
    "print(\"Variance:\", np.var(arr))\n",
    "print(\"Square Root:\", np.sqrt(arr))\n",
    "print(\"Exponential:\", np.exp(arr))\n",
    "print(\"Logarithm:\", np.log(arr))"
   ]
  },
  {
   "cell_type": "markdown",
   "id": "4f4f3e4a",
   "metadata": {},
   "source": [
    "## 9. Reshaping Arrays"
   ]
  },
  {
   "cell_type": "code",
   "execution_count": 13,
   "id": "19ee911d",
   "metadata": {},
   "outputs": [
    {
     "name": "stdout",
     "output_type": "stream",
     "text": [
      "Original array: [ 1  2  3  4  5  6  7  8  9 10 11 12]\n",
      "Reshaped array (3x4):\n",
      " [[ 1  2  3  4]\n",
      " [ 5  6  7  8]\n",
      " [ 9 10 11 12]]\n",
      "Flattened array: [ 1  2  3  4  5  6  7  8  9 10 11 12]\n"
     ]
    }
   ],
   "source": [
    "arr = np.arange(1, 13)\n",
    "reshaped = arr.reshape((3,4))\n",
    "print(\"Original array:\", arr)\n",
    "print(\"Reshaped array (3x4):\\n\", reshaped)\n",
    "flattened = reshaped.flatten()\n",
    "print(\"Flattened array:\", flattened)"
   ]
  },
  {
   "cell_type": "code",
   "execution_count": 23,
   "id": "0ba5b001",
   "metadata": {},
   "outputs": [
    {
     "name": "stdout",
     "output_type": "stream",
     "text": [
      "[4 5 6]\n"
     ]
    }
   ],
   "source": [
    "ar= np.arange(1,10)\n",
    "arr=ar.reshape(3,3)\n",
    "print(arr[1,:])"
   ]
  },
  {
   "cell_type": "code",
   "execution_count": 35,
   "id": "59c5e0e7",
   "metadata": {},
   "outputs": [
    {
     "name": "stdout",
     "output_type": "stream",
     "text": [
      "[[ 4  8  3  2  7]\n",
      " [ 9 10  9  2  5]\n",
      " [ 2 11  3  4 10]\n",
      " [ 9  3 11  1 12]\n",
      " [ 2  9  2  8  0]]\n",
      "0\n",
      "12\n"
     ]
    }
   ],
   "source": [
    "import random\n",
    "arr=np.array(np.random.randint(0,15,(5,5)))\n",
    "print(arr)\n",
    "print(arr.min())\n",
    "print(arr.max())"
   ]
  },
  {
   "cell_type": "code",
   "execution_count": null,
   "id": "40da655e",
   "metadata": {},
   "outputs": [],
   "source": []
  }
 ],
 "metadata": {
  "kernelspec": {
   "display_name": "base",
   "language": "python",
   "name": "python3"
  },
  "language_info": {
   "codemirror_mode": {
    "name": "ipython",
    "version": 3
   },
   "file_extension": ".py",
   "mimetype": "text/x-python",
   "name": "python",
   "nbconvert_exporter": "python",
   "pygments_lexer": "ipython3",
   "version": "3.13.5"
  }
 },
 "nbformat": 4,
 "nbformat_minor": 5
}
